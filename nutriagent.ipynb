# AI Nutrition & Health Assistant
# Project: AI Nutrition & Health Assistant using IBM Watsonx.ai
# Author: Mohit Gautam

import pandas as pd
from io import StringIO

print('pandas version:', pd.__version__)

# -------------------- Dataset --------------------
csv_text = """Food Item,Category,Calories (100g),Protein (g),Carbs (g),Fats (g),Diet Type,Health Benefits,Food Swap / Tips
Oats,Breakfast,389,17,66,7,Vegan/Vegetarian,High fiber, good for weight loss & energy,Replace sugary cereals with oats
Paneer,Lunch,265,18,2,20,Vegetarian,High protein, good for muscle gain,Swap with tofu for vegan diet
Brown Rice,Dinner,111,2.6,23,0.9,Vegan/Vegetarian,Better glycemic index than white rice,Use for diabetic-friendly meal prep
Almonds,Snack,576,21,22,49,Vegan/Vegetarian,Good fats, great for satiety and energy,Eat soaked almonds for better digestion
Chia Seeds,Snack,486,16,42,31,Vegan/Vegetarian,Omega-3 rich, good for heart health,Mix in yogurt or smoothies
Poha,Breakfast,130,2.5,27,1,Vegetarian,Light, easy to digest, good for breakfast,Add peanuts for protein boost
Idli,Breakfast,150,4,28,2,Vegetarian,Fermented, easy to digest, gut-friendly,Pair with sambar for balanced meal
Dal (Lentils),Lunch,116,9,20,0.4,Vegan/Vegetarian,High protein, rich in iron,Combine with rice or roti for complete protein
Chapati (Whole Wheat),Dinner,120,3,25,1,Vegan/Vegetarian,Staple carb, high in fiber,Use multigrain flour for more nutrition
Avocado,Snack,160,2,9,15,Vegan/Vegetarian,Healthy fats, good for heart and skin,Use in salads or sandwiches
Chicken Breast,Lunch,165,31,0,3.6,Non-Vegetarian,Lean protein, ideal for muscle gain,Grill instead of frying for fewer calories
Eggs,Breakfast,155,13,1.1,11,Non-Vegetarian,Complete protein, supports muscle recovery,Boil or scramble for quick breakfast
Salmon Fish,Dinner,208,20,0,13,Non-Vegetarian,Rich in omega-3, heart healthy,Grill or bake instead of frying
Greek Yogurt,Snack,59,10,3.6,0.4,Vegetarian,Probiotic, good for gut health,Mix with fruits for added flavor
Spinach,Lunch,23,2.9,3.6,0.4,Vegan/Vegetarian,Rich in iron and antioxidants,Use fresh in salads or cooked in curries
Broccoli,Lunch,34,2.8,7,0.4,Vegan/Vegetarian,Rich in fiber, supports detox,Steam or roast for best nutrition
Quinoa,Lunch,120,4,21,1.9,Vegan/Vegetarian,Complete protein grain,Use as rice alternative for gluten-free meals
Sweet Potato,Snack,86,1.6,20,0.1,Vegan/Vegetarian,Rich in beta carotene, good for eyes,Bake instead of frying
Tofu,Lunch,76,8,2,4,Vegan/Vegetarian,Plant protein, good for vegans,Marinate and grill for flavor
Apple,Snack,52,0.3,14,0.2,Vegan/Vegetarian,Rich in fiber and vitamin C,Eat with skin for more nutrients
Banana,Snack,89,1.1,23,0.3,Vegan/Vegetarian,Instant energy booster, rich in potassium,Combine with peanut butter for pre-workout snack
Mango,Snack,60,0.8,15,0.4,Vegan/Vegetarian,Rich in vitamin A and C,Best eaten ripe for sweetness
Papaya,Snack,43,0.5,11,0.3,Vegan/Vegetarian,Good for digestion and skin health,Eat ripe with lemon juice
Carrots,Snack,41,0.9,10,0.2,Vegan/Vegetarian,High in beta carotene, good for eyes,Eat raw or lightly steamed
Cucumber,Snack,16,0.6,4,0.1,Vegan/Vegetarian,Hydrating and low calorie,Use in salads or raita
Walnuts,Snack,654,15,14,65,Vegan/Vegetarian,Rich in omega-3 and antioxidants,Eat 4-5 daily for brain health
Cashews,Snack,553,18,30,44,Vegan/Vegetarian,Good fats, supports energy and immunity,Roast lightly for snack
Peanuts,Snack,567,26,16,49,Vegan/Vegetarian,Affordable protein source,Use roasted or boiled
Milk,Beverage,42,3.4,5,1,Vegetarian,Good calcium source,Use skimmed for weight loss
Green Tea,Beverage,0,0,0,0,Vegan/Vegetarian,Antioxidant-rich, aids metabolism,Drink without sugar
Coffee,Beverage,2,0.1,0,0,Vegan/Vegetarian,Boosts alertness,Limit to 2 cups per day
Lentil Soup,Lunch,150,8,20,2,Vegan/Vegetarian,Rich in plant protein,Add spinach for iron boost
Vegetable Stir-Fry,Dinner,200,6,25,8,Vegan/Vegetarian,High in vitamins and fiber,Use minimal oil
Chicken Curry,Dinner,250,20,10,12,Non-Vegetarian,Protein-rich Indian curry,Remove skin for lower fat
Mutton Curry,Dinner,300,22,8,20,Non-Vegetarian,Rich in iron,Cook with less oil
Fish Curry,Dinner,220,18,6,14,Non-Vegetarian,Omega-3 and protein,Use coconut milk for flavor
Vegetable Sandwich,Snack,180,6,28,5,Vegetarian,Quick and filling snack,Use whole wheat bread
Fruit Salad,Snack,120,2,30,0,Vegan/Vegetarian,Natural vitamins and fiber,Avoid sugar syrup
Mixed Seeds,Snack,500,18,28,35,Vegan/Vegetarian,Good for heart health,Sprinkle on salads
Sprouts,Snack,100,8,20,1,Vegan/Vegetarian,Rich in enzymes and vitamins,Eat raw with lemon juice
Paratha,Breakfast,210,5,35,8,Vegetarian,Filling and energy-dense,Use less oil for weight loss
Biryani (Veg),Lunch,300,8,45,10,Vegetarian,Aromatic rice dish,Add curd for balance
Dosa,Breakfast,160,4,30,4,Vegetarian,Fermented batter, gut friendly,Serve with sambar
Roti,Dinner,110,3,22,1,Vegan/Vegetarian,Staple Indian bread,Use whole wheat flour
Pulao,Lunch,250,6,40,7,Vegetarian,Light rice dish,Add vegetables for nutrition
Khichdi,Dinner,180,6,30,5,Vegetarian,Easy to digest comfort food,Add ghee for energy
High Protein Breakfast Plan,Meal Plan,450,25,40,15,Mixed,Ideal for muscle gain; includes oats, milk, eggs,Replace eggs with paneer for vegetarian
Low Carb Dinner Plan,Meal Plan,400,30,20,18,Mixed,Good for weight loss; includes chicken breast, salad,Replace chicken with tofu for vegetarian
Balanced Indian Lunch Plan,Meal Plan,550,20,65,15,Vegetarian,Dal, chapati, sabzi, and curd for complete nutrition,Use brown rice instead of white rice
Weight Loss Snack Plan,Meal Plan,250,10,20,12,Vegan/Vegetarian,Nuts, fruits, and yogurt for satiety,Mix seeds for added fiber
Diabetic-Friendly Breakfast Plan,Meal Plan,300,15,30,8,Vegetarian,Idli with sambar and nuts,Avoid sugary chutneys
Vegan Muscle Gain Plan,Meal Plan,600,30,70,20,Vegan,Includes quinoa, tofu, nuts for plant protein,Add chia seeds for omega-3 boost
Quick Indian Breakfast Plan,Meal Plan,350,12,45,10,Vegetarian,Includes poha, sprouts, and curd for balanced energy,Add lemon juice for vitamin C
Heart-Healthy Dinner Plan,Meal Plan,420,22,35,16,Mixed,Includes salmon, spinach, and quinoa for omega-3 and fiber,Grill instead of fry for better health
Weight Gain Indian Plan,Meal Plan,700,28,80,25,Vegetarian,Includes paneer, paratha, and nuts for high energy,Include banana shake for extra calories
Diabetic Lunch Combo,Meal Plan,500,18,55,12,Vegetarian,Balanced carbs and fiber; includes brown rice, dal, and salad,Avoid fried papad and sweets
"""

# Load dataset
df = pd.read_csv(StringIO(csv_text))
print(df.shape)
df.head()

# -------------------- Retrieval Function --------------------
def retrieve_foods(query, df=df):
    keywords = [w.strip().lower() for w in query.split() if w.strip()]
    mask = pd.Series([False]*len(df))
    for w in keywords:
        mask = mask | df['Food Item'].str.lower().str.contains(w, na=False) \
                   | df['Category'].str.lower().str.contains(w, na=False) \
                   | df['Diet Type'].str.lower().str.contains(w, na=False) \
                   | df['Health Benefits'].str.lower().str.contains(w, na=False)
    results = df[mask].reset_index(drop=True)
    return results

# -------------------- Simulated Agent Response --------------------
def simulate_agent_response(query):
    res = retrieve_foods(query)
    if res.empty:
        return 'I could not find matching items in the knowledge base. Try rephrasing.'
    items = res.head(3)
    bullets = []
    for _, row in items.iterrows():
        bullets.append(f"- {row['Food Item']} ({row['Category']}): ~{row['Calories (100g)']} kcal, protein {row['Protein (g)']}g. Tip: {row['Food Swap / Tips']}")
    response = 'Here are some options I found:\n' + '\n'.join(bullets)
    response += "\n\nRemember, I am not a doctor. Consult a professional for medical advice."
    return response

# Test Example
print(simulate_agent_response('vegetarian high protein breakfast'))

# -------------------- IBM Watsonx.ai Granite Model Integration --------------------
# Make sure you have: `pip install ibm_watsonx_ai`

from ibm_watsonx_ai import Credentials, ModelInference

# Replace these with your own IBM Cloud credentials
API_KEY = "your_api_key_here"
PROJECT_ID = "your_project_id_here"

# Set up credentials
creds = Credentials(
    url="https://us-south.ml.cloud.ibm.com",  # keep default region or change if needed
    api_key=API_KEY
)

# Choose a Granite model
model_id = "granite-13b-chat-v2"  # conversational Granite model

# Initialize inference object
model = ModelInference(
    model_id=model_id,
    credentials=creds,
    project_id=PROJECT_ID
)

# Function to call the Granite model
def granite_agent_response(user_query):
    prompt = f"""You are a friendly and expert AI Nutrition & Health Assistant.
    Respond accurately to health-related queries and act as a personal dietician.
    Be polite, supportive, and explain in simple language.

    User query: {user_query}
    """

    response = model.generate_text(prompt=prompt, max_new_tokens=250)
    return response.get("results", [{}])[0].get("generated_text", "").strip()

# Example usage:
# print(granite_agent_response("Suggest a vegetarian high-protein breakfast."))
